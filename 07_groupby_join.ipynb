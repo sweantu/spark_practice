{
 "cells": [
  {
   "cell_type": "code",
   "execution_count": 1,
   "id": "121a1f8f-ed91-4cc8-9172-7dd008543561",
   "metadata": {},
   "outputs": [
    {
     "name": "stderr",
     "output_type": "stream",
     "text": [
      "Setting default log level to \"WARN\".\n",
      "To adjust logging level use sc.setLogLevel(newLevel). For SparkR, use setLogLevel(newLevel).\n",
      "25/04/10 02:44:26 WARN NativeCodeLoader: Unable to load native-hadoop library for your platform... using builtin-java classes where applicable\n"
     ]
    }
   ],
   "source": [
    "import pyspark\n",
    "from pyspark.sql import SparkSession\n",
    "\n",
    "spark = SparkSession.builder \\\n",
    "    .master(\"local[*]\") \\\n",
    "    .appName('test') \\\n",
    "    .getOrCreate()"
   ]
  },
  {
   "cell_type": "code",
   "execution_count": 2,
   "id": "c190873c-fb7b-4279-9e46-b196c60d71bd",
   "metadata": {},
   "outputs": [
    {
     "name": "stderr",
     "output_type": "stream",
     "text": [
      "                                                                                \r"
     ]
    }
   ],
   "source": [
    "df_green = spark.read.parquet('data/pq/green/*/*')"
   ]
  },
  {
   "cell_type": "code",
   "execution_count": 3,
   "id": "ce602e6b-7af9-429e-bddb-282f14bbe30e",
   "metadata": {},
   "outputs": [],
   "source": [
    "df_green.createOrReplaceTempView('green')"
   ]
  },
  {
   "cell_type": "code",
   "execution_count": 4,
   "id": "ae2462b6-f736-489a-b020-9c0a59c4b5ef",
   "metadata": {},
   "outputs": [
    {
     "data": {
      "text/plain": [
       "['VendorID',\n",
       " 'lpep_pickup_datetime',\n",
       " 'lpep_dropoff_datetime',\n",
       " 'store_and_fwd_flag',\n",
       " 'RatecodeID',\n",
       " 'PULocationID',\n",
       " 'DOLocationID',\n",
       " 'passenger_count',\n",
       " 'trip_distance',\n",
       " 'fare_amount',\n",
       " 'extra',\n",
       " 'mta_tax',\n",
       " 'tip_amount',\n",
       " 'tolls_amount',\n",
       " 'ehail_fee',\n",
       " 'improvement_surcharge',\n",
       " 'total_amount',\n",
       " 'payment_type',\n",
       " 'trip_type',\n",
       " 'congestion_surcharge']"
      ]
     },
     "execution_count": 4,
     "metadata": {},
     "output_type": "execute_result"
    }
   ],
   "source": [
    "df_green.columns"
   ]
  },
  {
   "cell_type": "code",
   "execution_count": 5,
   "id": "44f603d8-4237-410b-b2d3-6005402308d7",
   "metadata": {
    "scrolled": true
   },
   "outputs": [],
   "source": [
    "df_green_revenue = spark.sql(\"\"\"\n",
    "SELECT\n",
    "    date_trunc('hour', lpep_pickup_datetime) AS hour,\n",
    "    PULocationID AS zone,\n",
    "    SUM(total_amount) AS amount,\n",
    "    COUNT(1) as number_records\n",
    "FROM green\n",
    "WHERE\n",
    "    lpep_pickup_datetime >= '2020-01-01 00:00:00'\n",
    "GROUP BY 1, 2\n",
    "ORDER BY 1, 2\n",
    "\"\"\")"
   ]
  },
  {
   "cell_type": "code",
   "execution_count": 6,
   "id": "c541fee3-9028-40e4-9b4a-82b6492bce70",
   "metadata": {},
   "outputs": [
    {
     "name": "stderr",
     "output_type": "stream",
     "text": [
      "[Stage 3:>                                                          (0 + 4) / 4]\r"
     ]
    },
    {
     "name": "stdout",
     "output_type": "stream",
     "text": [
      "+-------------------+----+------------------+--------------+\n",
      "|               hour|zone|            amount|number_records|\n",
      "+-------------------+----+------------------+--------------+\n",
      "|2020-01-01 00:00:00|   7| 769.7299999999996|            45|\n",
      "|2020-01-01 00:00:00|  17|195.03000000000003|             9|\n",
      "|2020-01-01 00:00:00|  18|               7.8|             1|\n",
      "|2020-01-01 00:00:00|  22|              15.8|             1|\n",
      "|2020-01-01 00:00:00|  24|              87.6|             3|\n",
      "|2020-01-01 00:00:00|  25| 531.0000000000002|            26|\n",
      "|2020-01-01 00:00:00|  29|              61.3|             1|\n",
      "|2020-01-01 00:00:00|  32| 68.94999999999999|             2|\n",
      "|2020-01-01 00:00:00|  33|317.27000000000004|            11|\n",
      "|2020-01-01 00:00:00|  35|            129.96|             5|\n",
      "|2020-01-01 00:00:00|  36|295.34000000000003|            11|\n",
      "|2020-01-01 00:00:00|  37|            175.67|             6|\n",
      "|2020-01-01 00:00:00|  38| 98.78999999999999|             2|\n",
      "|2020-01-01 00:00:00|  40|168.97999999999996|             8|\n",
      "|2020-01-01 00:00:00|  41|1363.9599999999987|            84|\n",
      "|2020-01-01 00:00:00|  42| 799.7599999999994|            52|\n",
      "|2020-01-01 00:00:00|  43|            107.52|             6|\n",
      "|2020-01-01 00:00:00|  47|              13.3|             1|\n",
      "|2020-01-01 00:00:00|  49|266.76000000000005|            14|\n",
      "|2020-01-01 00:00:00|  51|              17.8|             2|\n",
      "+-------------------+----+------------------+--------------+\n",
      "only showing top 20 rows\n",
      "\n"
     ]
    },
    {
     "name": "stderr",
     "output_type": "stream",
     "text": [
      "                                                                                \r"
     ]
    }
   ],
   "source": [
    "df_green_revenue.show()"
   ]
  },
  {
   "cell_type": "code",
   "execution_count": 8,
   "id": "b590b004-e04f-41a0-8cab-69742f742245",
   "metadata": {},
   "outputs": [
    {
     "name": "stderr",
     "output_type": "stream",
     "text": [
      "                                                                                \r"
     ]
    }
   ],
   "source": [
    "df_green_revenue.write.parquet('data/report/revenue/green', mode='overwrite')"
   ]
  },
  {
   "cell_type": "code",
   "execution_count": 9,
   "id": "1817d30c-1923-4e57-b179-bd88c6069752",
   "metadata": {},
   "outputs": [],
   "source": [
    "df_green_revenue = spark.sql(\"\"\"\n",
    "SELECT\n",
    "    date_trunc('hour', lpep_pickup_datetime) AS hour,\n",
    "    PULocationID AS zone,\n",
    "    SUM(total_amount) AS amount,\n",
    "    COUNT(1) as number_records\n",
    "FROM green\n",
    "WHERE\n",
    "    lpep_pickup_datetime >= '2020-01-01 00:00:00'\n",
    "GROUP BY 1, 2\n",
    "\"\"\")"
   ]
  },
  {
   "cell_type": "code",
   "execution_count": 10,
   "id": "0cd69432-e1f4-49e8-8882-9db2904e21dd",
   "metadata": {},
   "outputs": [
    {
     "name": "stderr",
     "output_type": "stream",
     "text": [
      "                                                                                \r"
     ]
    }
   ],
   "source": [
    "df_green_revenue \\\n",
    "    .repartition(20) \\\n",
    "    .write.parquet('data/report/revenue/green', mode='overwrite')"
   ]
  },
  {
   "cell_type": "code",
   "execution_count": 11,
   "id": "b2d43c1e-6894-4dc4-adda-d0fc8056d3f3",
   "metadata": {},
   "outputs": [],
   "source": [
    "df_yellow = spark.read.parquet('data/pq/yellow/*/*')"
   ]
  },
  {
   "cell_type": "code",
   "execution_count": 12,
   "id": "1fd33377-ea3a-4054-be2f-702686cf9616",
   "metadata": {},
   "outputs": [],
   "source": [
    "df_yellow.createOrReplaceTempView('yellow')"
   ]
  },
  {
   "cell_type": "code",
   "execution_count": 13,
   "id": "e3ebd294-3015-4a5e-894b-03c30a5138b4",
   "metadata": {},
   "outputs": [
    {
     "data": {
      "text/plain": [
       "['VendorID',\n",
       " 'tpep_pickup_datetime',\n",
       " 'tpep_dropoff_datetime',\n",
       " 'passenger_count',\n",
       " 'trip_distance',\n",
       " 'RatecodeID',\n",
       " 'store_and_fwd_flag',\n",
       " 'PULocationID',\n",
       " 'DOLocationID',\n",
       " 'payment_type',\n",
       " 'fare_amount',\n",
       " 'extra',\n",
       " 'mta_tax',\n",
       " 'tip_amount',\n",
       " 'tolls_amount',\n",
       " 'improvement_surcharge',\n",
       " 'total_amount',\n",
       " 'congestion_surcharge']"
      ]
     },
     "execution_count": 13,
     "metadata": {},
     "output_type": "execute_result"
    }
   ],
   "source": [
    "df_yellow.columns"
   ]
  },
  {
   "cell_type": "code",
   "execution_count": 14,
   "id": "ec6b1997-e780-47ed-9a46-1d3d69b1a19a",
   "metadata": {},
   "outputs": [],
   "source": [
    "df_yellow_revenue = spark.sql(\"\"\"\n",
    "SELECT\n",
    "    date_trunc('hour', tpep_pickup_datetime) AS hour,\n",
    "    PULocationID AS zone,\n",
    "    SUM(total_amount) AS amount,\n",
    "    COUNT(1) as number_records\n",
    "FROM yellow\n",
    "WHERE\n",
    "    tpep_pickup_datetime >= '2020-01-01 00:00:00'\n",
    "GROUP BY 1, 2\n",
    "\"\"\")"
   ]
  },
  {
   "cell_type": "code",
   "execution_count": 15,
   "id": "baf721a4-e48b-4ebb-896c-f9884a13d9c1",
   "metadata": {},
   "outputs": [
    {
     "name": "stderr",
     "output_type": "stream",
     "text": [
      "                                                                                \r"
     ]
    }
   ],
   "source": [
    "df_yellow_revenue \\\n",
    "    .repartition(20) \\\n",
    "    .write.parquet('data/report/revenue/yellow', mode='overwrite')"
   ]
  },
  {
   "cell_type": "code",
   "execution_count": 16,
   "id": "d55c58e0-d0f7-4bfb-b42d-01e7040d87e6",
   "metadata": {},
   "outputs": [
    {
     "name": "stdout",
     "output_type": "stream",
     "text": [
      "data/report/:\n",
      "total 4.0K\n",
      "drwxr-xr-x 4 sweantu sweantu 4.0K Apr 10 02:46 revenue\n",
      "\n",
      "data/report/revenue:\n",
      "total 48K\n",
      "-rw-r--r-- 1 sweantu sweantu    0 Apr  7 15:08 _SUCCESS\n",
      "drwxr-xr-x 2 sweantu sweantu 4.0K Apr 10 02:45 green\n",
      "-rw-r--r-- 1 sweantu sweantu  38K Apr  7 15:08 part-00000-17f8bb39-32c1-4d24-837a-f5be5e713008-c000.snappy.parquet\n",
      "drwxr-xr-x 2 sweantu sweantu 4.0K Apr 10 02:46 yellow\n",
      "\n",
      "data/report/revenue/green:\n",
      "total 6.2M\n",
      "-rw-r--r-- 1 sweantu sweantu    0 Apr 10 02:45 _SUCCESS\n",
      "-rw-r--r-- 1 sweantu sweantu 313K Apr 10 02:45 part-00000-fd2e133c-5d6d-4999-9c67-8b2230702166-c000.snappy.parquet\n",
      "-rw-r--r-- 1 sweantu sweantu 312K Apr 10 02:45 part-00001-fd2e133c-5d6d-4999-9c67-8b2230702166-c000.snappy.parquet\n",
      "-rw-r--r-- 1 sweantu sweantu 311K Apr 10 02:45 part-00002-fd2e133c-5d6d-4999-9c67-8b2230702166-c000.snappy.parquet\n",
      "-rw-r--r-- 1 sweantu sweantu 312K Apr 10 02:45 part-00003-fd2e133c-5d6d-4999-9c67-8b2230702166-c000.snappy.parquet\n",
      "-rw-r--r-- 1 sweantu sweantu 313K Apr 10 02:45 part-00004-fd2e133c-5d6d-4999-9c67-8b2230702166-c000.snappy.parquet\n",
      "-rw-r--r-- 1 sweantu sweantu 313K Apr 10 02:45 part-00005-fd2e133c-5d6d-4999-9c67-8b2230702166-c000.snappy.parquet\n",
      "-rw-r--r-- 1 sweantu sweantu 313K Apr 10 02:45 part-00006-fd2e133c-5d6d-4999-9c67-8b2230702166-c000.snappy.parquet\n",
      "-rw-r--r-- 1 sweantu sweantu 312K Apr 10 02:45 part-00007-fd2e133c-5d6d-4999-9c67-8b2230702166-c000.snappy.parquet\n",
      "-rw-r--r-- 1 sweantu sweantu 312K Apr 10 02:45 part-00008-fd2e133c-5d6d-4999-9c67-8b2230702166-c000.snappy.parquet\n",
      "-rw-r--r-- 1 sweantu sweantu 313K Apr 10 02:45 part-00009-fd2e133c-5d6d-4999-9c67-8b2230702166-c000.snappy.parquet\n",
      "-rw-r--r-- 1 sweantu sweantu 313K Apr 10 02:45 part-00010-fd2e133c-5d6d-4999-9c67-8b2230702166-c000.snappy.parquet\n",
      "-rw-r--r-- 1 sweantu sweantu 314K Apr 10 02:45 part-00011-fd2e133c-5d6d-4999-9c67-8b2230702166-c000.snappy.parquet\n",
      "-rw-r--r-- 1 sweantu sweantu 313K Apr 10 02:45 part-00012-fd2e133c-5d6d-4999-9c67-8b2230702166-c000.snappy.parquet\n",
      "-rw-r--r-- 1 sweantu sweantu 312K Apr 10 02:45 part-00013-fd2e133c-5d6d-4999-9c67-8b2230702166-c000.snappy.parquet\n",
      "-rw-r--r-- 1 sweantu sweantu 313K Apr 10 02:45 part-00014-fd2e133c-5d6d-4999-9c67-8b2230702166-c000.snappy.parquet\n",
      "-rw-r--r-- 1 sweantu sweantu 312K Apr 10 02:45 part-00015-fd2e133c-5d6d-4999-9c67-8b2230702166-c000.snappy.parquet\n",
      "-rw-r--r-- 1 sweantu sweantu 314K Apr 10 02:45 part-00016-fd2e133c-5d6d-4999-9c67-8b2230702166-c000.snappy.parquet\n",
      "-rw-r--r-- 1 sweantu sweantu 312K Apr 10 02:45 part-00017-fd2e133c-5d6d-4999-9c67-8b2230702166-c000.snappy.parquet\n",
      "-rw-r--r-- 1 sweantu sweantu 312K Apr 10 02:45 part-00018-fd2e133c-5d6d-4999-9c67-8b2230702166-c000.snappy.parquet\n",
      "-rw-r--r-- 1 sweantu sweantu 313K Apr 10 02:45 part-00019-fd2e133c-5d6d-4999-9c67-8b2230702166-c000.snappy.parquet\n",
      "\n",
      "data/report/revenue/yellow:\n",
      "total 16M\n",
      "-rw-r--r-- 1 sweantu sweantu    0 Apr 10 02:46 _SUCCESS\n",
      "-rw-r--r-- 1 sweantu sweantu 772K Apr 10 02:46 part-00000-99035a86-cd9a-4b31-a3ef-ed778d54b5bd-c000.snappy.parquet\n",
      "-rw-r--r-- 1 sweantu sweantu 772K Apr 10 02:46 part-00001-99035a86-cd9a-4b31-a3ef-ed778d54b5bd-c000.snappy.parquet\n",
      "-rw-r--r-- 1 sweantu sweantu 771K Apr 10 02:46 part-00002-99035a86-cd9a-4b31-a3ef-ed778d54b5bd-c000.snappy.parquet\n",
      "-rw-r--r-- 1 sweantu sweantu 772K Apr 10 02:46 part-00003-99035a86-cd9a-4b31-a3ef-ed778d54b5bd-c000.snappy.parquet\n",
      "-rw-r--r-- 1 sweantu sweantu 771K Apr 10 02:46 part-00004-99035a86-cd9a-4b31-a3ef-ed778d54b5bd-c000.snappy.parquet\n",
      "-rw-r--r-- 1 sweantu sweantu 772K Apr 10 02:46 part-00005-99035a86-cd9a-4b31-a3ef-ed778d54b5bd-c000.snappy.parquet\n",
      "-rw-r--r-- 1 sweantu sweantu 769K Apr 10 02:46 part-00006-99035a86-cd9a-4b31-a3ef-ed778d54b5bd-c000.snappy.parquet\n",
      "-rw-r--r-- 1 sweantu sweantu 773K Apr 10 02:46 part-00007-99035a86-cd9a-4b31-a3ef-ed778d54b5bd-c000.snappy.parquet\n",
      "-rw-r--r-- 1 sweantu sweantu 772K Apr 10 02:46 part-00008-99035a86-cd9a-4b31-a3ef-ed778d54b5bd-c000.snappy.parquet\n",
      "-rw-r--r-- 1 sweantu sweantu 772K Apr 10 02:46 part-00009-99035a86-cd9a-4b31-a3ef-ed778d54b5bd-c000.snappy.parquet\n",
      "-rw-r--r-- 1 sweantu sweantu 772K Apr 10 02:46 part-00010-99035a86-cd9a-4b31-a3ef-ed778d54b5bd-c000.snappy.parquet\n",
      "-rw-r--r-- 1 sweantu sweantu 773K Apr 10 02:46 part-00011-99035a86-cd9a-4b31-a3ef-ed778d54b5bd-c000.snappy.parquet\n",
      "-rw-r--r-- 1 sweantu sweantu 771K Apr 10 02:46 part-00012-99035a86-cd9a-4b31-a3ef-ed778d54b5bd-c000.snappy.parquet\n",
      "-rw-r--r-- 1 sweantu sweantu 771K Apr 10 02:46 part-00013-99035a86-cd9a-4b31-a3ef-ed778d54b5bd-c000.snappy.parquet\n",
      "-rw-r--r-- 1 sweantu sweantu 774K Apr 10 02:46 part-00014-99035a86-cd9a-4b31-a3ef-ed778d54b5bd-c000.snappy.parquet\n",
      "-rw-r--r-- 1 sweantu sweantu 773K Apr 10 02:46 part-00015-99035a86-cd9a-4b31-a3ef-ed778d54b5bd-c000.snappy.parquet\n",
      "-rw-r--r-- 1 sweantu sweantu 770K Apr 10 02:46 part-00016-99035a86-cd9a-4b31-a3ef-ed778d54b5bd-c000.snappy.parquet\n",
      "-rw-r--r-- 1 sweantu sweantu 773K Apr 10 02:46 part-00017-99035a86-cd9a-4b31-a3ef-ed778d54b5bd-c000.snappy.parquet\n",
      "-rw-r--r-- 1 sweantu sweantu 771K Apr 10 02:46 part-00018-99035a86-cd9a-4b31-a3ef-ed778d54b5bd-c000.snappy.parquet\n",
      "-rw-r--r-- 1 sweantu sweantu 773K Apr 10 02:46 part-00019-99035a86-cd9a-4b31-a3ef-ed778d54b5bd-c000.snappy.parquet\n"
     ]
    }
   ],
   "source": [
    "!ls -lhR data/report/"
   ]
  },
  {
   "cell_type": "code",
   "execution_count": 17,
   "id": "cdbd08e0-37bc-43b5-ab47-cd7bd8e8da03",
   "metadata": {},
   "outputs": [],
   "source": [
    "df_join = df_green_revenue.join(df_yellow_revenue, on=['hour', 'zone'], how='outer')"
   ]
  },
  {
   "cell_type": "code",
   "execution_count": 18,
   "id": "80d3740d-9e82-48dc-82b8-fbb21b16d219",
   "metadata": {},
   "outputs": [
    {
     "name": "stderr",
     "output_type": "stream",
     "text": [
      "[Stage 34:>                                                         (0 + 1) / 1]\r"
     ]
    },
    {
     "name": "stdout",
     "output_type": "stream",
     "text": [
      "+-------------------+----+------------------+--------------+------------------+--------------+\n",
      "|               hour|zone|            amount|number_records|            amount|number_records|\n",
      "+-------------------+----+------------------+--------------+------------------+--------------+\n",
      "|2020-01-01 00:00:00|   3|              null|          null|              25.0|             1|\n",
      "|2020-01-01 00:00:00|   4|              null|          null|1004.3000000000002|            57|\n",
      "|2020-01-01 00:00:00|   7| 769.7299999999996|            45| 455.1700000000001|            38|\n",
      "|2020-01-01 00:00:00|  12|              null|          null|             107.0|             6|\n",
      "|2020-01-01 00:00:00|  37|            175.67|             6|161.60999999999999|             7|\n",
      "|2020-01-01 00:00:00|  40|168.97999999999996|             8|             89.97|             5|\n",
      "|2020-01-01 00:00:00|  45|              null|          null| 732.4800000000002|            42|\n",
      "|2020-01-01 00:00:00|  47|              13.3|             1|               8.3|             1|\n",
      "|2020-01-01 00:00:00|  51|              17.8|             2|              31.0|             1|\n",
      "|2020-01-01 00:00:00|  62|             15.95|             1|             61.43|             1|\n",
      "|2020-01-01 00:00:00|  68|              null|          null| 7825.070000000012|           396|\n",
      "|2020-01-01 00:00:00|  73|              null|          null|              17.3|             1|\n",
      "|2020-01-01 00:00:00|  74|317.09000000000015|            24| 586.2100000000002|            47|\n",
      "|2020-01-01 00:00:00|  77| 75.99000000000001|             2|            134.24|             3|\n",
      "|2020-01-01 00:00:00|  80|364.32000000000005|            13|             371.4|            20|\n",
      "|2020-01-01 00:00:00|  83|              94.1|             7|               9.8|             1|\n",
      "|2020-01-01 00:00:00|  88|              null|          null| 823.8000000000002|            36|\n",
      "|2020-01-01 00:00:00|  89|              11.3|             1|             48.16|             2|\n",
      "|2020-01-01 00:00:00|  94| 64.24000000000001|             3|              13.3|             1|\n",
      "|2020-01-01 00:00:00|  95|202.20000000000002|            15|               6.3|             1|\n",
      "+-------------------+----+------------------+--------------+------------------+--------------+\n",
      "only showing top 20 rows\n",
      "\n"
     ]
    },
    {
     "name": "stderr",
     "output_type": "stream",
     "text": [
      "                                                                                \r"
     ]
    }
   ],
   "source": [
    "df_join.show()"
   ]
  },
  {
   "cell_type": "code",
   "execution_count": 19,
   "id": "25423f27-72af-4136-a884-8f5f416cae5e",
   "metadata": {},
   "outputs": [],
   "source": [
    "df_green_revenue_tmp = df_green_revenue \\\n",
    "    .withColumnRenamed('amount', 'green_amount') \\\n",
    "    .withColumnRenamed('number_records', 'green_number_records')\n",
    "\n",
    "df_yellow_revenue_tmp = df_yellow_revenue \\\n",
    "    .withColumnRenamed('amount', 'yellow_amount') \\\n",
    "    .withColumnRenamed('number_records', 'yellow_number_records')\n"
   ]
  },
  {
   "cell_type": "code",
   "execution_count": 20,
   "id": "a4e20eb0-8b5f-471d-afd6-a5c3012167ec",
   "metadata": {},
   "outputs": [],
   "source": [
    "df_join = df_green_revenue_tmp.join(df_yellow_revenue_tmp, on=['hour', 'zone'], how='outer')"
   ]
  },
  {
   "cell_type": "code",
   "execution_count": 21,
   "id": "1171e601-a636-4623-8054-8e7c1b4ee8ae",
   "metadata": {},
   "outputs": [
    {
     "data": {
      "text/plain": [
       "DataFrame[hour: timestamp, zone: int, green_amount: double, green_number_records: bigint, yellow_amount: double, yellow_number_records: bigint]"
      ]
     },
     "execution_count": 21,
     "metadata": {},
     "output_type": "execute_result"
    }
   ],
   "source": [
    "df_join"
   ]
  },
  {
   "cell_type": "code",
   "execution_count": 22,
   "id": "a0d64023-dffe-4ff1-a77c-8cb799957bc5",
   "metadata": {},
   "outputs": [
    {
     "name": "stderr",
     "output_type": "stream",
     "text": [
      "[Stage 36:===================================================>    (12 + 1) / 13]\r"
     ]
    },
    {
     "name": "stdout",
     "output_type": "stream",
     "text": [
      "+-------------------+----+------------------+--------------------+------------------+---------------------+\n",
      "|               hour|zone|      green_amount|green_number_records|     yellow_amount|yellow_number_records|\n",
      "+-------------------+----+------------------+--------------------+------------------+---------------------+\n",
      "|2020-01-01 00:00:00|   3|              null|                null|              25.0|                    1|\n",
      "|2020-01-01 00:00:00|   4|              null|                null|1004.3000000000002|                   57|\n",
      "|2020-01-01 00:00:00|   7| 769.7299999999996|                  45| 455.1700000000001|                   38|\n",
      "|2020-01-01 00:00:00|  12|              null|                null|             107.0|                    6|\n",
      "|2020-01-01 00:00:00|  37|            175.67|                   6|161.60999999999999|                    7|\n",
      "|2020-01-01 00:00:00|  40|168.97999999999996|                   8|             89.97|                    5|\n",
      "|2020-01-01 00:00:00|  45|              null|                null| 732.4800000000002|                   42|\n",
      "|2020-01-01 00:00:00|  47|              13.3|                   1|               8.3|                    1|\n",
      "|2020-01-01 00:00:00|  51|              17.8|                   2|              31.0|                    1|\n",
      "|2020-01-01 00:00:00|  62|             15.95|                   1|             61.43|                    1|\n",
      "|2020-01-01 00:00:00|  68|              null|                null| 7825.070000000012|                  396|\n",
      "|2020-01-01 00:00:00|  73|              null|                null|              17.3|                    1|\n",
      "|2020-01-01 00:00:00|  74|317.09000000000015|                  24| 586.2100000000002|                   47|\n",
      "|2020-01-01 00:00:00|  77| 75.99000000000001|                   2|            134.24|                    3|\n",
      "|2020-01-01 00:00:00|  80|364.32000000000005|                  13|             371.4|                   20|\n",
      "|2020-01-01 00:00:00|  83|              94.1|                   7|               9.8|                    1|\n",
      "|2020-01-01 00:00:00|  88|              null|                null| 823.8000000000002|                   36|\n",
      "|2020-01-01 00:00:00|  89|              11.3|                   1|             48.16|                    2|\n",
      "|2020-01-01 00:00:00|  94| 64.24000000000001|                   3|              13.3|                    1|\n",
      "|2020-01-01 00:00:00|  95|202.20000000000002|                  15|               6.3|                    1|\n",
      "+-------------------+----+------------------+--------------------+------------------+---------------------+\n",
      "only showing top 20 rows\n",
      "\n"
     ]
    },
    {
     "name": "stderr",
     "output_type": "stream",
     "text": [
      "                                                                                \r"
     ]
    }
   ],
   "source": [
    "df_join.show()"
   ]
  },
  {
   "cell_type": "code",
   "execution_count": 23,
   "id": "b93a2ee8-a982-4d9f-89c0-cc1b49850dba",
   "metadata": {},
   "outputs": [
    {
     "name": "stderr",
     "output_type": "stream",
     "text": [
      "                                                                                \r"
     ]
    }
   ],
   "source": [
    "df_join.repartition(200).write.parquet('data/report/revenue/total', mode='overwrite')"
   ]
  },
  {
   "cell_type": "code",
   "execution_count": 24,
   "id": "97d6a57b-22b4-48fb-80a2-c62b86298aa9",
   "metadata": {},
   "outputs": [],
   "source": [
    "df_green_revenue = spark.read.parquet('data/report/revenue/green')\n",
    "df_yellow_revenue = spark.read.parquet('data/report/revenue/yellow')"
   ]
  },
  {
   "cell_type": "code",
   "execution_count": 25,
   "id": "04fe2f91-71c0-4060-8a67-58de581aa27d",
   "metadata": {},
   "outputs": [],
   "source": [
    "df_green_revenue_tmp = df_green_revenue \\\n",
    "    .withColumnRenamed('amount', 'green_amount') \\\n",
    "    .withColumnRenamed('number_records', 'green_number_records')\n",
    "\n",
    "df_yellow_revenue_tmp = df_yellow_revenue \\\n",
    "    .withColumnRenamed('amount', 'yellow_amount') \\\n",
    "    .withColumnRenamed('number_records', 'yellow_number_records')"
   ]
  },
  {
   "cell_type": "code",
   "execution_count": 26,
   "id": "7b638c79-4160-44cc-899b-a1af1f66e843",
   "metadata": {},
   "outputs": [],
   "source": [
    "df_join = df_green_revenue_tmp.join(df_yellow_revenue_tmp, on=['hour', 'zone'], how='outer')"
   ]
  },
  {
   "cell_type": "code",
   "execution_count": 27,
   "id": "e1043456-49eb-4399-8db3-9e6f19458b70",
   "metadata": {},
   "outputs": [
    {
     "name": "stderr",
     "output_type": "stream",
     "text": [
      "                                                                                \r"
     ]
    }
   ],
   "source": [
    "df_join.repartition(200).write.parquet('data/report/revenue/total', mode='overwrite')"
   ]
  },
  {
   "cell_type": "code",
   "execution_count": 28,
   "id": "9dd2711c-c58e-43f6-8017-3990ba27d62f",
   "metadata": {},
   "outputs": [],
   "source": [
    "df_join = spark.read.parquet('data/report/revenue/total')"
   ]
  },
  {
   "cell_type": "code",
   "execution_count": 29,
   "id": "3f4b0de9-e6f9-4f27-9f59-aa0139bcceb5",
   "metadata": {},
   "outputs": [
    {
     "data": {
      "text/plain": [
       "DataFrame[hour: timestamp, zone: int, green_amount: double, green_number_records: bigint, yellow_amount: double, yellow_number_records: bigint]"
      ]
     },
     "execution_count": 29,
     "metadata": {},
     "output_type": "execute_result"
    }
   ],
   "source": [
    "df_join"
   ]
  },
  {
   "cell_type": "code",
   "execution_count": 30,
   "id": "977b0ff9-554c-417f-870d-f460a21fbb5d",
   "metadata": {},
   "outputs": [],
   "source": [
    "df_zones = spark.read.parquet('zones')"
   ]
  },
  {
   "cell_type": "code",
   "execution_count": 31,
   "id": "818f674e-eb76-47b0-8c5b-da7fd4ef3d40",
   "metadata": {},
   "outputs": [
    {
     "data": {
      "text/plain": [
       "DataFrame[LocationID: string, Borough: string, Zone: string, service_zone: string]"
      ]
     },
     "execution_count": 31,
     "metadata": {},
     "output_type": "execute_result"
    }
   ],
   "source": [
    "df_zones"
   ]
  },
  {
   "cell_type": "code",
   "execution_count": 32,
   "id": "765d1411-24e6-4712-863d-78e070bf3211",
   "metadata": {},
   "outputs": [],
   "source": [
    "df_result = df_join.join(df_zones, df_join.zone == df_zones.LocationID)"
   ]
  },
  {
   "cell_type": "code",
   "execution_count": 34,
   "id": "2f3f4a88-af55-45ce-96b8-2bcc58194007",
   "metadata": {},
   "outputs": [
    {
     "name": "stderr",
     "output_type": "stream",
     "text": [
      "                                                                                \r"
     ]
    }
   ],
   "source": [
    "df_result.drop('zone', 'LocationID').write.parquet('tmp/revenue-zones', mode='overwrite')"
   ]
  },
  {
   "cell_type": "code",
   "execution_count": 35,
   "id": "c9c041c1-08d5-4b13-b265-f9b5cc7c82e4",
   "metadata": {},
   "outputs": [
    {
     "name": "stdout",
     "output_type": "stream",
     "text": [
      "total 18M\n",
      "-rw-r--r-- 1 sweantu sweantu    0 Apr 10 02:48 _SUCCESS\n",
      "-rw-r--r-- 1 sweantu sweantu 2.7M Apr 10 02:48 part-00000-5e1c9825-69f0-4fe1-8034-adb80ab26e97-c000.snappy.parquet\n",
      "-rw-r--r-- 1 sweantu sweantu 2.7M Apr 10 02:48 part-00001-5e1c9825-69f0-4fe1-8034-adb80ab26e97-c000.snappy.parquet\n",
      "-rw-r--r-- 1 sweantu sweantu 2.7M Apr 10 02:48 part-00002-5e1c9825-69f0-4fe1-8034-adb80ab26e97-c000.snappy.parquet\n",
      "-rw-r--r-- 1 sweantu sweantu 2.7M Apr 10 02:48 part-00003-5e1c9825-69f0-4fe1-8034-adb80ab26e97-c000.snappy.parquet\n",
      "-rw-r--r-- 1 sweantu sweantu 2.7M Apr 10 02:48 part-00004-5e1c9825-69f0-4fe1-8034-adb80ab26e97-c000.snappy.parquet\n",
      "-rw-r--r-- 1 sweantu sweantu 2.7M Apr 10 02:48 part-00005-5e1c9825-69f0-4fe1-8034-adb80ab26e97-c000.snappy.parquet\n",
      "-rw-r--r-- 1 sweantu sweantu 1.3M Apr 10 02:48 part-00006-5e1c9825-69f0-4fe1-8034-adb80ab26e97-c000.snappy.parquet\n"
     ]
    }
   ],
   "source": [
    "!ls -lh tmp/revenue-zones/"
   ]
  },
  {
   "cell_type": "code",
   "execution_count": null,
   "id": "9b4f6b51-83d4-4c99-8230-66999bd4dd58",
   "metadata": {},
   "outputs": [],
   "source": []
  }
 ],
 "metadata": {
  "kernelspec": {
   "display_name": "Python 3 (ipykernel)",
   "language": "python",
   "name": "python3"
  },
  "language_info": {
   "codemirror_mode": {
    "name": "ipython",
    "version": 3
   },
   "file_extension": ".py",
   "mimetype": "text/x-python",
   "name": "python",
   "nbconvert_exporter": "python",
   "pygments_lexer": "ipython3",
   "version": "3.12.7"
  }
 },
 "nbformat": 4,
 "nbformat_minor": 5
}
